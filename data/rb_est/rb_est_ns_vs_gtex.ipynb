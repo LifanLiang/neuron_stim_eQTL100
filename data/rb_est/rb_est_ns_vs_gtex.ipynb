{
 "cells": [
  {
   "cell_type": "code",
   "execution_count": 1,
   "id": "9f872f42-005b-4254-90e6-9f3f06f4d0ef",
   "metadata": {},
   "outputs": [],
   "source": [
    "library(data.table)\n",
    "\n",
    "setwd(\"/project/xinhe/lifan/neuron_stim/mateqtl_100lines_output/final_eqtl_08222023/\")\n",
    "\n",
    "eqtlfs <- list.files(pattern=\"trans2.5e5_eqtl.txt$\")\n",
    "eqtls <- list()\n",
    "for(f in eqtlfs) {\n",
    "  n <- substr(f, 1, nchar(f)-37)\n",
    "  #eqtls[[n]] <- readRDS(f)$cis$eqtls\n",
    "  eqtls[[n]] <- fread(f)\n",
    "}"
   ]
  },
  {
   "cell_type": "code",
   "execution_count": 14,
   "id": "4d812980-69a0-4482-a450-ebb66d9a327b",
   "metadata": {},
   "outputs": [
    {
     "data": {
      "text/html": [
       "<table class=\"dataframe\">\n",
       "<caption>A data.table: 6 × 8</caption>\n",
       "<thead>\n",
       "\t<tr><th scope=col>gene</th><th scope=col>SNP</th><th scope=col>variant_id</th><th scope=col>gene_id</th><th scope=col>chr</th><th scope=col>pos</th><th scope=col>ref</th><th scope=col>alt</th></tr>\n",
       "\t<tr><th scope=col>&lt;chr&gt;</th><th scope=col>&lt;chr&gt;</th><th scope=col>&lt;chr&gt;</th><th scope=col>&lt;chr&gt;</th><th scope=col>&lt;chr&gt;</th><th scope=col>&lt;int&gt;</th><th scope=col>&lt;chr&gt;</th><th scope=col>&lt;chr&gt;</th></tr>\n",
       "</thead>\n",
       "<tbody>\n",
       "\t<tr><td>A1BG    </td><td>rs3214663  </td><td>chr19_58346865_GC_G_b38</td><td>ENSG00000121410.11</td><td>chr19</td><td>58346865</td><td>GC </td><td>G</td></tr>\n",
       "\t<tr><td>A1BG-AS1</td><td>rs6510137  </td><td>chr19_58352784_T_C_b38 </td><td>ENSG00000268895.5 </td><td>chr19</td><td>58352784</td><td>T  </td><td>C</td></tr>\n",
       "\t<tr><td>A2M-AS1 </td><td>rs11611936 </td><td>chr12_8919566_C_T_b38  </td><td>ENSG00000245105.2 </td><td>chr12</td><td> 8919566</td><td>C  </td><td>T</td></tr>\n",
       "\t<tr><td>A2ML1   </td><td>rs144686314</td><td>chr12_8863966_GGC_G_b38</td><td>ENSG00000166535.19</td><td>chr12</td><td> 8863966</td><td>GGC</td><td>G</td></tr>\n",
       "\t<tr><td>A4GALT  </td><td>rs5758896  </td><td>chr22_42719570_T_C_b38 </td><td>ENSG00000128274.15</td><td>chr22</td><td>42719570</td><td>T  </td><td>C</td></tr>\n",
       "\t<tr><td>AANAT   </td><td>rs7224108  </td><td>chr17_76482816_C_T_b38 </td><td>ENSG00000129673.9 </td><td>chr17</td><td>76482816</td><td>C  </td><td>T</td></tr>\n",
       "</tbody>\n",
       "</table>\n"
      ],
      "text/latex": [
       "A data.table: 6 × 8\n",
       "\\begin{tabular}{llllllll}\n",
       " gene & SNP & variant\\_id & gene\\_id & chr & pos & ref & alt\\\\\n",
       " <chr> & <chr> & <chr> & <chr> & <chr> & <int> & <chr> & <chr>\\\\\n",
       "\\hline\n",
       "\t A1BG     & rs3214663   & chr19\\_58346865\\_GC\\_G\\_b38 & ENSG00000121410.11 & chr19 & 58346865 & GC  & G\\\\\n",
       "\t A1BG-AS1 & rs6510137   & chr19\\_58352784\\_T\\_C\\_b38  & ENSG00000268895.5  & chr19 & 58352784 & T   & C\\\\\n",
       "\t A2M-AS1  & rs11611936  & chr12\\_8919566\\_C\\_T\\_b38   & ENSG00000245105.2  & chr12 &  8919566 & C   & T\\\\\n",
       "\t A2ML1    & rs144686314 & chr12\\_8863966\\_GGC\\_G\\_b38 & ENSG00000166535.19 & chr12 &  8863966 & GGC & G\\\\\n",
       "\t A4GALT   & rs5758896   & chr22\\_42719570\\_T\\_C\\_b38  & ENSG00000128274.15 & chr22 & 42719570 & T   & C\\\\\n",
       "\t AANAT    & rs7224108   & chr17\\_76482816\\_C\\_T\\_b38  & ENSG00000129673.9  & chr17 & 76482816 & C   & T\\\\\n",
       "\\end{tabular}\n"
      ],
      "text/markdown": [
       "\n",
       "A data.table: 6 × 8\n",
       "\n",
       "| gene &lt;chr&gt; | SNP &lt;chr&gt; | variant_id &lt;chr&gt; | gene_id &lt;chr&gt; | chr &lt;chr&gt; | pos &lt;int&gt; | ref &lt;chr&gt; | alt &lt;chr&gt; |\n",
       "|---|---|---|---|---|---|---|---|\n",
       "| A1BG     | rs3214663   | chr19_58346865_GC_G_b38 | ENSG00000121410.11 | chr19 | 58346865 | GC  | G |\n",
       "| A1BG-AS1 | rs6510137   | chr19_58352784_T_C_b38  | ENSG00000268895.5  | chr19 | 58352784 | T   | C |\n",
       "| A2M-AS1  | rs11611936  | chr12_8919566_C_T_b38   | ENSG00000245105.2  | chr12 |  8919566 | C   | T |\n",
       "| A2ML1    | rs144686314 | chr12_8863966_GGC_G_b38 | ENSG00000166535.19 | chr12 |  8863966 | GGC | G |\n",
       "| A4GALT   | rs5758896   | chr22_42719570_T_C_b38  | ENSG00000128274.15 | chr22 | 42719570 | T   | C |\n",
       "| AANAT    | rs7224108   | chr17_76482816_C_T_b38  | ENSG00000129673.9  | chr17 | 76482816 | C   | T |\n",
       "\n"
      ],
      "text/plain": [
       "  gene     SNP         variant_id              gene_id            chr  \n",
       "1 A1BG     rs3214663   chr19_58346865_GC_G_b38 ENSG00000121410.11 chr19\n",
       "2 A1BG-AS1 rs6510137   chr19_58352784_T_C_b38  ENSG00000268895.5  chr19\n",
       "3 A2M-AS1  rs11611936  chr12_8919566_C_T_b38   ENSG00000245105.2  chr12\n",
       "4 A2ML1    rs144686314 chr12_8863966_GGC_G_b38 ENSG00000166535.19 chr12\n",
       "5 A4GALT   rs5758896   chr22_42719570_T_C_b38  ENSG00000128274.15 chr22\n",
       "6 AANAT    rs7224108   chr17_76482816_C_T_b38  ENSG00000129673.9  chr17\n",
       "  pos      ref alt\n",
       "1 58346865 GC  G  \n",
       "2 58352784 T   C  \n",
       "3  8919566 C   T  \n",
       "4  8863966 GGC G  \n",
       "5 42719570 T   C  \n",
       "6 76482816 C   T  "
      ]
     },
     "metadata": {},
     "output_type": "display_data"
    }
   ],
   "source": [
    "# Load the reference set of eQTLs extracted from cortex\n",
    "\n",
    "ref_pairs <- readRDS(\"../rb_est/ref_pairs.rds\")\n",
    "head(ref_pairs)"
   ]
  },
  {
   "cell_type": "code",
   "execution_count": null,
   "id": "b6406157-2f4e-4d4d-9638-1fed808d5f5a",
   "metadata": {},
   "outputs": [],
   "source": [
    "snpinfo <- fread(\"../../snpinfo_100lines.txt\")\n",
    "snpinfo$variant_id <- paste(snpinfo$chr, snpinfo$pos, snpinfo$ref, snpinfo$alt, \"b38\", sep=\"_\")"
   ]
  },
  {
   "cell_type": "code",
   "execution_count": 10,
   "id": "dc8d574a-2c62-4a93-bf7b-569b4c894b37",
   "metadata": {},
   "outputs": [
    {
     "data": {
      "text/html": [
       "<table class=\"dataframe\">\n",
       "<caption>A data.table: 6 × 14</caption>\n",
       "<thead>\n",
       "\t<tr><th scope=col>variant_id</th><th scope=col>gene_id</th><th scope=col>tss_distance</th><th scope=col>ma_samples</th><th scope=col>ma_count</th><th scope=col>maf</th><th scope=col>pval_nominal</th><th scope=col>slope</th><th scope=col>slope_se</th><th scope=col>pval_nominal_threshold</th><th scope=col>min_pval_nominal</th><th scope=col>pval_beta</th><th scope=col>gene_name</th><th scope=col>rsid</th></tr>\n",
       "\t<tr><th scope=col>&lt;chr&gt;</th><th scope=col>&lt;chr&gt;</th><th scope=col>&lt;int&gt;</th><th scope=col>&lt;int&gt;</th><th scope=col>&lt;int&gt;</th><th scope=col>&lt;dbl&gt;</th><th scope=col>&lt;dbl&gt;</th><th scope=col>&lt;dbl&gt;</th><th scope=col>&lt;dbl&gt;</th><th scope=col>&lt;dbl&gt;</th><th scope=col>&lt;dbl&gt;</th><th scope=col>&lt;dbl&gt;</th><th scope=col>&lt;chr&gt;</th><th scope=col>&lt;chr&gt;</th></tr>\n",
       "</thead>\n",
       "<tbody>\n",
       "\t<tr><td>chr10_100000235_C_T_b38</td><td>ENSG00000107554.16</td><td>  -9684</td><td>102</td><td>120</td><td>0.287081</td><td>4.32963e-06</td><td>0.375282</td><td>0.0790133</td><td>0.000142631</td><td>4.24345e-12</td><td>2.36930e-08</td><td>DNMBP  </td><td>rs11596870</td></tr>\n",
       "\t<tr><td>chr10_100002628_A_C_b38</td><td>ENSG00000107554.16</td><td>  -7291</td><td>139</td><td>178</td><td>0.425837</td><td>7.60706e-06</td><td>0.347959</td><td>0.0753302</td><td>0.000142631</td><td>4.24345e-12</td><td>2.36930e-08</td><td>DNMBP  </td><td>rs11190363</td></tr>\n",
       "\t<tr><td>chr10_100004827_A_C_b38</td><td>ENSG00000107554.16</td><td>  -5092</td><td>133</td><td>167</td><td>0.399522</td><td>8.98508e-07</td><td>0.381298</td><td>0.0747442</td><td>0.000142631</td><td>4.24345e-12</td><td>2.36930e-08</td><td>DNMBP  </td><td>rs7902856 </td></tr>\n",
       "\t<tr><td>chr10_100007241_C_T_b38</td><td>ENSG00000107554.16</td><td>  -2678</td><td>133</td><td>170</td><td>0.406699</td><td>1.09631e-06</td><td>0.375025</td><td>0.0741480</td><td>0.000142631</td><td>4.24345e-12</td><td>2.36930e-08</td><td>DNMBP  </td><td>rs7088596 </td></tr>\n",
       "\t<tr><td>chr10_100009013_G_A_b38</td><td>ENSG00000107554.16</td><td>   -906</td><td>133</td><td>170</td><td>0.406699</td><td>1.09631e-06</td><td>0.375025</td><td>0.0741480</td><td>0.000142631</td><td>4.24345e-12</td><td>2.36930e-08</td><td>DNMBP  </td><td>rs12267374</td></tr>\n",
       "\t<tr><td>chr10_100009635_T_G_b38</td><td>ENSG00000095485.16</td><td>-258045</td><td>135</td><td>170</td><td>0.406699</td><td>4.12072e-05</td><td>0.280034</td><td>0.0664969</td><td>0.000113635</td><td>3.68200e-29</td><td>3.13143e-24</td><td>CWF19L1</td><td>rs11592868</td></tr>\n",
       "</tbody>\n",
       "</table>\n"
      ],
      "text/latex": [
       "A data.table: 6 × 14\n",
       "\\begin{tabular}{llllllllllllll}\n",
       " variant\\_id & gene\\_id & tss\\_distance & ma\\_samples & ma\\_count & maf & pval\\_nominal & slope & slope\\_se & pval\\_nominal\\_threshold & min\\_pval\\_nominal & pval\\_beta & gene\\_name & rsid\\\\\n",
       " <chr> & <chr> & <int> & <int> & <int> & <dbl> & <dbl> & <dbl> & <dbl> & <dbl> & <dbl> & <dbl> & <chr> & <chr>\\\\\n",
       "\\hline\n",
       "\t chr10\\_100000235\\_C\\_T\\_b38 & ENSG00000107554.16 &   -9684 & 102 & 120 & 0.287081 & 4.32963e-06 & 0.375282 & 0.0790133 & 0.000142631 & 4.24345e-12 & 2.36930e-08 & DNMBP   & rs11596870\\\\\n",
       "\t chr10\\_100002628\\_A\\_C\\_b38 & ENSG00000107554.16 &   -7291 & 139 & 178 & 0.425837 & 7.60706e-06 & 0.347959 & 0.0753302 & 0.000142631 & 4.24345e-12 & 2.36930e-08 & DNMBP   & rs11190363\\\\\n",
       "\t chr10\\_100004827\\_A\\_C\\_b38 & ENSG00000107554.16 &   -5092 & 133 & 167 & 0.399522 & 8.98508e-07 & 0.381298 & 0.0747442 & 0.000142631 & 4.24345e-12 & 2.36930e-08 & DNMBP   & rs7902856 \\\\\n",
       "\t chr10\\_100007241\\_C\\_T\\_b38 & ENSG00000107554.16 &   -2678 & 133 & 170 & 0.406699 & 1.09631e-06 & 0.375025 & 0.0741480 & 0.000142631 & 4.24345e-12 & 2.36930e-08 & DNMBP   & rs7088596 \\\\\n",
       "\t chr10\\_100009013\\_G\\_A\\_b38 & ENSG00000107554.16 &    -906 & 133 & 170 & 0.406699 & 1.09631e-06 & 0.375025 & 0.0741480 & 0.000142631 & 4.24345e-12 & 2.36930e-08 & DNMBP   & rs12267374\\\\\n",
       "\t chr10\\_100009635\\_T\\_G\\_b38 & ENSG00000095485.16 & -258045 & 135 & 170 & 0.406699 & 4.12072e-05 & 0.280034 & 0.0664969 & 0.000113635 & 3.68200e-29 & 3.13143e-24 & CWF19L1 & rs11592868\\\\\n",
       "\\end{tabular}\n"
      ],
      "text/markdown": [
       "\n",
       "A data.table: 6 × 14\n",
       "\n",
       "| variant_id &lt;chr&gt; | gene_id &lt;chr&gt; | tss_distance &lt;int&gt; | ma_samples &lt;int&gt; | ma_count &lt;int&gt; | maf &lt;dbl&gt; | pval_nominal &lt;dbl&gt; | slope &lt;dbl&gt; | slope_se &lt;dbl&gt; | pval_nominal_threshold &lt;dbl&gt; | min_pval_nominal &lt;dbl&gt; | pval_beta &lt;dbl&gt; | gene_name &lt;chr&gt; | rsid &lt;chr&gt; |\n",
       "|---|---|---|---|---|---|---|---|---|---|---|---|---|---|\n",
       "| chr10_100000235_C_T_b38 | ENSG00000107554.16 |   -9684 | 102 | 120 | 0.287081 | 4.32963e-06 | 0.375282 | 0.0790133 | 0.000142631 | 4.24345e-12 | 2.36930e-08 | DNMBP   | rs11596870 |\n",
       "| chr10_100002628_A_C_b38 | ENSG00000107554.16 |   -7291 | 139 | 178 | 0.425837 | 7.60706e-06 | 0.347959 | 0.0753302 | 0.000142631 | 4.24345e-12 | 2.36930e-08 | DNMBP   | rs11190363 |\n",
       "| chr10_100004827_A_C_b38 | ENSG00000107554.16 |   -5092 | 133 | 167 | 0.399522 | 8.98508e-07 | 0.381298 | 0.0747442 | 0.000142631 | 4.24345e-12 | 2.36930e-08 | DNMBP   | rs7902856  |\n",
       "| chr10_100007241_C_T_b38 | ENSG00000107554.16 |   -2678 | 133 | 170 | 0.406699 | 1.09631e-06 | 0.375025 | 0.0741480 | 0.000142631 | 4.24345e-12 | 2.36930e-08 | DNMBP   | rs7088596  |\n",
       "| chr10_100009013_G_A_b38 | ENSG00000107554.16 |    -906 | 133 | 170 | 0.406699 | 1.09631e-06 | 0.375025 | 0.0741480 | 0.000142631 | 4.24345e-12 | 2.36930e-08 | DNMBP   | rs12267374 |\n",
       "| chr10_100009635_T_G_b38 | ENSG00000095485.16 | -258045 | 135 | 170 | 0.406699 | 4.12072e-05 | 0.280034 | 0.0664969 | 0.000113635 | 3.68200e-29 | 3.13143e-24 | CWF19L1 | rs11592868 |\n",
       "\n"
      ],
      "text/plain": [
       "  variant_id              gene_id            tss_distance ma_samples ma_count\n",
       "1 chr10_100000235_C_T_b38 ENSG00000107554.16   -9684      102        120     \n",
       "2 chr10_100002628_A_C_b38 ENSG00000107554.16   -7291      139        178     \n",
       "3 chr10_100004827_A_C_b38 ENSG00000107554.16   -5092      133        167     \n",
       "4 chr10_100007241_C_T_b38 ENSG00000107554.16   -2678      133        170     \n",
       "5 chr10_100009013_G_A_b38 ENSG00000107554.16    -906      133        170     \n",
       "6 chr10_100009635_T_G_b38 ENSG00000095485.16 -258045      135        170     \n",
       "  maf      pval_nominal slope    slope_se  pval_nominal_threshold\n",
       "1 0.287081 4.32963e-06  0.375282 0.0790133 0.000142631           \n",
       "2 0.425837 7.60706e-06  0.347959 0.0753302 0.000142631           \n",
       "3 0.399522 8.98508e-07  0.381298 0.0747442 0.000142631           \n",
       "4 0.406699 1.09631e-06  0.375025 0.0741480 0.000142631           \n",
       "5 0.406699 1.09631e-06  0.375025 0.0741480 0.000142631           \n",
       "6 0.406699 4.12072e-05  0.280034 0.0664969 0.000113635           \n",
       "  min_pval_nominal pval_beta   gene_name rsid      \n",
       "1 4.24345e-12      2.36930e-08 DNMBP     rs11596870\n",
       "2 4.24345e-12      2.36930e-08 DNMBP     rs11190363\n",
       "3 4.24345e-12      2.36930e-08 DNMBP     rs7902856 \n",
       "4 4.24345e-12      2.36930e-08 DNMBP     rs7088596 \n",
       "5 4.24345e-12      2.36930e-08 DNMBP     rs12267374\n",
       "6 3.68200e-29      3.13143e-24 CWF19L1   rs11592868"
      ]
     },
     "metadata": {},
     "output_type": "display_data"
    }
   ],
   "source": [
    "### Map to RSID and gene name\n",
    "\n",
    "cerebellum <- fread(\"../../GTEx_Analysis_v8_eQTL/Brain_Cerebellum.v8.signif_variant_gene_pairs.txt.gz\")\n",
    "geneinfo <- fread(\"../../GTEx_Analysis_v8_eQTL/Brain_Cerebellum.v8.egenes.txt.gz\")\n",
    "cere1 <- merge(cerebellum, geneinfo[,1:2], by=\"gene_id\", all.x=T)\n",
    "\n",
    "cere2 <- merge(cere1, snpinfo[,c(\"rsid\",\"variant_id\")], by=\"variant_id\", all=F)\n",
    "\n",
    "head(cere2)"
   ]
  },
  {
   "cell_type": "code",
   "execution_count": 69,
   "id": "d43a71b6-0f9d-4446-bb6a-455ad82306c4",
   "metadata": {},
   "outputs": [],
   "source": [
    "## Estimate rb between our eQTL and GTEx Brain tissues\n",
    "\n",
    "rb_est <- function(eqtl_ns, eqtl_gtex, ref_pairs) {\n",
    "    null_ns <- eqtl_ns[gene %in% ref_pairs$gene & `p-value`>0.01,1:3]\n",
    "    null_gtex <- eqtl_gtex[gene_id %in% ref_pairs$gene_id & `pval_nominal`>0.01,\n",
    "                           c(\"slope\",\"gene_name\",\"rsid\")]\n",
    "    null.sumstats <- merge(null_ns, null_gtex, by.x=c(\"SNP\",\"gene\"), \n",
    "                           by.y=c(\"rsid\",\"gene_name\"), all=F)\n",
    "    dtCor <- null.sumstats[, .(mCor = cor(beta,slope)), by=gene]\n",
    "    re <- mean(dtCor$mCor, na.rm=T)\n",
    "    \n",
    "    pair1 <- merge(ref_pairs[,1:2], eqtl_ns, by=c(\"gene\",\"SNP\"), all=F)\n",
    "    pair1$se <- pair1$beta / pair1[,\"t-stat\"]\n",
    "    pair2 <- merge(ref_pairs[,3:4], eqtl_gtex, by=c(\"gene_id\",\"variant_id\"), all=F)\n",
    "    #pair2$se <- pair2$beta / pair2[,\"t-stat\"]\n",
    "\n",
    "    var.e1 <- mean(pair1$se^2)\n",
    "    var.e2 <- mean(pair2$slope_se^2)\n",
    "\n",
    "    var.b1 <- var(pair1$beta)\n",
    "    var.b2 <- var(pair2$slope)\n",
    "\n",
    "    pairs <- merge(pair1, pair2, by.x=c(\"gene\",\"SNP\"), \n",
    "                   by.y=c(\"gene_name\", \"rsid\"), all=F)\n",
    "    covar.bhat <- cov(pairs$beta, pairs$slope)\n",
    "\n",
    "    rb <- (covar.bhat - re*sqrt(var.e1*var.e2))/sqrt(var.b1-var.e1)/sqrt(var.b2-var.e2)\n",
    "    rb\n",
    "}"
   ]
  },
  {
   "cell_type": "code",
   "execution_count": 67,
   "id": "59123a5a-5d8b-4c22-977a-9f66c09aa192",
   "metadata": {},
   "outputs": [],
   "source": [
    "## Standard error for rb between our eqtl and GTEx\n",
    "rb_se <- function(eqtl_ns, eqtl_gtex, ref_pairs) {\n",
    "    null_ns <- eqtl_ns[gene %in% ref_pairs$gene & `p-value`>0.01,1:3]\n",
    "    null_gtex <- eqtl_gtex[gene_id %in% ref_pairs$gene_id & `pval_nominal`>0.01,\n",
    "                           c(\"slope\",\"gene_name\",\"rsid\")]\n",
    "    null.sumstats <- merge(null_ns, null_gtex, by.x=c(\"SNP\",\"gene\"), \n",
    "                           by.y=c(\"rsid\",\"gene_name\"), all=F)\n",
    "    dtCor <- null.sumstats[, .(mCor = cor(beta,slope)), by=gene]\n",
    "    \n",
    "    pair1 <- merge(ref_pairs[,1:2], eqtl_ns, by=c(\"gene\",\"SNP\"), all=F)\n",
    "    pair1$se <- pair1$beta / pair1[,\"t-stat\"]\n",
    "    pair2 <- merge(ref_pairs[,3:4], eqtl_gtex, by=c(\"gene_id\",\"variant_id\"), all=F)\n",
    "    \n",
    "    rbs <- list()\n",
    "    for(g in ref_pairs$gene) { #Jack-knife approximation\n",
    "        re <- mean(dtCor$mCor[dtCor$gene!=g], na.rm=T)\n",
    "    \n",
    "        var.e1 <- mean(pair1$se[pair1$gene!=g]^2)\n",
    "        var.e2 <- mean(pair2$slope_se[pair2$gene_name!=g]^2)\n",
    "\n",
    "        var.b1 <- var(pair1$beta[pair1$gene!=g])\n",
    "        var.b2 <- var(pair2$slope[pair2$gene_name!=g])\n",
    "\n",
    "        pairs <- merge(pair1[pair1$gene!=g], pair2[pair2$gene_name!=g], \n",
    "                       by.x=c(\"gene\",\"SNP\"), by.y=c(\"gene_name\", \"rsid\"), all=F)\n",
    "        covar.bhat <- cov(pairs$beta, pairs$slope)\n",
    "        #covar.bhat <- cov(pair1$beta[pair1$gene!=g], pair2$beta[pair2$gene!=g])\n",
    "\n",
    "        rbs[[g]] <- (covar.bhat - re*sqrt(var.e1*var.e2))/sqrt(var.b1-var.e1)/sqrt(var.b2-var.e2)\n",
    "    }\n",
    "    rb1 <- unlist(rbs)\n",
    "    sqrt((length(rb1)-1)/length(rb1)*sum((rb1-mean(rb1))^2)) # Standard error of rb\n",
    "}"
   ]
  },
  {
   "cell_type": "code",
   "execution_count": 61,
   "id": "1eb5eb6c-9dfd-444e-b72e-eb8af8df5cb4",
   "metadata": {
    "scrolled": true,
    "tags": []
   },
   "outputs": [
    {
     "name": "stderr",
     "output_type": "stream",
     "text": [
      "Warning message in cor(beta, slope):\n",
      "“the standard deviation is zero”\n",
      "Warning message in cor(beta, slope):\n",
      "“the standard deviation is zero”\n",
      "Warning message in cor(beta, slope):\n",
      "“the standard deviation is zero”\n",
      "Warning message in cor(beta, slope):\n",
      "“the standard deviation is zero”\n",
      "Warning message in cor(beta, slope):\n",
      "“the standard deviation is zero”\n",
      "Warning message in cor(beta, slope):\n",
      "“the standard deviation is zero”\n",
      "Warning message in cor(beta, slope):\n",
      "“the standard deviation is zero”\n",
      "Warning message in cor(beta, slope):\n",
      "“the standard deviation is zero”\n",
      "Warning message in cor(beta, slope):\n",
      "“the standard deviation is zero”\n",
      "Warning message in cor(beta, slope):\n",
      "“the standard deviation is zero”\n",
      "Warning message in cor(beta, slope):\n",
      "“the standard deviation is zero”\n",
      "Warning message in cor(beta, slope):\n",
      "“the standard deviation is zero”\n",
      "Warning message in cor(beta, slope):\n",
      "“the standard deviation is zero”\n",
      "Warning message in cor(beta, slope):\n",
      "“the standard deviation is zero”\n",
      "Warning message in cor(beta, slope):\n",
      "“the standard deviation is zero”\n",
      "Warning message in cor(beta, slope):\n",
      "“the standard deviation is zero”\n",
      "Warning message in cor(beta, slope):\n",
      "“the standard deviation is zero”\n",
      "Warning message in cor(beta, slope):\n",
      "“the standard deviation is zero”\n",
      "Warning message in cor(beta, slope):\n",
      "“the standard deviation is zero”\n",
      "Warning message in cor(beta, slope):\n",
      "“the standard deviation is zero”\n",
      "Warning message in cor(beta, slope):\n",
      "“the standard deviation is zero”\n"
     ]
    },
    {
     "data": {
      "text/html": [
       "0.840343284858452"
      ],
      "text/latex": [
       "0.840343284858452"
      ],
      "text/markdown": [
       "0.840343284858452"
      ],
      "text/plain": [
       "[1] 0.8403433"
      ]
     },
     "metadata": {},
     "output_type": "display_data"
    }
   ],
   "source": [
    "rb_est(eqtls[[1]], cere2, ref_pairs)"
   ]
  },
  {
   "cell_type": "code",
   "execution_count": 56,
   "id": "3bf2c722-d04a-457b-88fe-e167a9a6c333",
   "metadata": {
    "scrolled": true,
    "tags": []
   },
   "outputs": [
    {
     "name": "stderr",
     "output_type": "stream",
     "text": [
      "Warning message in cor(beta, slope):\n",
      "“the standard deviation is zero”\n",
      "Warning message in cor(beta, slope):\n",
      "“the standard deviation is zero”\n",
      "Warning message in cor(beta, slope):\n",
      "“the standard deviation is zero”\n",
      "Warning message in cor(beta, slope):\n",
      "“the standard deviation is zero”\n",
      "Warning message in cor(beta, slope):\n",
      "“the standard deviation is zero”\n",
      "Warning message in cor(beta, slope):\n",
      "“the standard deviation is zero”\n",
      "Warning message in cor(beta, slope):\n",
      "“the standard deviation is zero”\n",
      "Warning message in cor(beta, slope):\n",
      "“the standard deviation is zero”\n",
      "Warning message in cor(beta, slope):\n",
      "“the standard deviation is zero”\n",
      "Warning message in cor(beta, slope):\n",
      "“the standard deviation is zero”\n",
      "Warning message in cor(beta, slope):\n",
      "“the standard deviation is zero”\n",
      "Warning message in cor(beta, slope):\n",
      "“the standard deviation is zero”\n",
      "Warning message in cor(beta, slope):\n",
      "“the standard deviation is zero”\n",
      "Warning message in cor(beta, slope):\n",
      "“the standard deviation is zero”\n",
      "Warning message in cor(beta, slope):\n",
      "“the standard deviation is zero”\n",
      "Warning message in cor(beta, slope):\n",
      "“the standard deviation is zero”\n",
      "Warning message in cor(beta, slope):\n",
      "“the standard deviation is zero”\n",
      "Warning message in cor(beta, slope):\n",
      "“the standard deviation is zero”\n",
      "Warning message in cor(beta, slope):\n",
      "“the standard deviation is zero”\n",
      "Warning message in cor(beta, slope):\n",
      "“the standard deviation is zero”\n",
      "Warning message in cor(beta, slope):\n",
      "“the standard deviation is zero”\n"
     ]
    },
    {
     "data": {
      "text/html": [
       "0.0223422120800105"
      ],
      "text/latex": [
       "0.0223422120800105"
      ],
      "text/markdown": [
       "0.0223422120800105"
      ],
      "text/plain": [
       "[1] 0.02234221"
      ]
     },
     "metadata": {},
     "output_type": "display_data"
    }
   ],
   "source": [
    "rb_se(eqtls[[1]], cere2, ref_pairs)"
   ]
  },
  {
   "cell_type": "code",
   "execution_count": 66,
   "id": "c17ba96f-02c8-4a14-9ce9-1184db3062e6",
   "metadata": {
    "scrolled": true,
    "tags": []
   },
   "outputs": [
    {
     "data": {
      "text/html": [
       "<table class=\"dataframe\">\n",
       "<caption>A data.table: 6 × 9</caption>\n",
       "<thead>\n",
       "\t<tr><th scope=col>gene_id</th><th scope=col>variant_id</th><th scope=col>tss_distance</th><th scope=col>ma_samples</th><th scope=col>ma_count</th><th scope=col>maf</th><th scope=col>pval_nominal</th><th scope=col>slope</th><th scope=col>slope_se</th></tr>\n",
       "\t<tr><th scope=col>&lt;chr&gt;</th><th scope=col>&lt;chr&gt;</th><th scope=col>&lt;int&gt;</th><th scope=col>&lt;int&gt;</th><th scope=col>&lt;int&gt;</th><th scope=col>&lt;dbl&gt;</th><th scope=col>&lt;dbl&gt;</th><th scope=col>&lt;dbl&gt;</th><th scope=col>&lt;dbl&gt;</th></tr>\n",
       "</thead>\n",
       "<tbody>\n",
       "\t<tr><td>ENSG00000227232.5</td><td>chr1_13550_G_A_b38</td><td>-16003</td><td> 5</td><td> 5</td><td>0.01196170</td><td>0.451465</td><td> 0.2635580</td><td>0.349211</td></tr>\n",
       "\t<tr><td>ENSG00000227232.5</td><td>chr1_14671_G_C_b38</td><td>-14882</td><td> 2</td><td> 2</td><td>0.00478469</td><td>0.532213</td><td> 0.3441160</td><td>0.549778</td></tr>\n",
       "\t<tr><td>ENSG00000227232.5</td><td>chr1_14677_G_A_b38</td><td>-14876</td><td>23</td><td>23</td><td>0.05502390</td><td>0.248052</td><td>-0.2099730</td><td>0.181152</td></tr>\n",
       "\t<tr><td>ENSG00000227232.5</td><td>chr1_16841_G_T_b38</td><td>-12712</td><td>19</td><td>19</td><td>0.04545450</td><td>0.885775</td><td> 0.0272581</td><td>0.189464</td></tr>\n",
       "\t<tr><td>ENSG00000227232.5</td><td>chr1_16856_A_G_b38</td><td>-12697</td><td> 3</td><td> 3</td><td>0.00717703</td><td>0.842802</td><td>-0.0890186</td><td>0.448194</td></tr>\n",
       "\t<tr><td>ENSG00000227232.5</td><td>chr1_17005_A_G_b38</td><td>-12548</td><td> 6</td><td> 6</td><td>0.01435410</td><td>0.123219</td><td>-0.5002110</td><td>0.322897</td></tr>\n",
       "</tbody>\n",
       "</table>\n"
      ],
      "text/latex": [
       "A data.table: 6 × 9\n",
       "\\begin{tabular}{lllllllll}\n",
       " gene\\_id & variant\\_id & tss\\_distance & ma\\_samples & ma\\_count & maf & pval\\_nominal & slope & slope\\_se\\\\\n",
       " <chr> & <chr> & <int> & <int> & <int> & <dbl> & <dbl> & <dbl> & <dbl>\\\\\n",
       "\\hline\n",
       "\t ENSG00000227232.5 & chr1\\_13550\\_G\\_A\\_b38 & -16003 &  5 &  5 & 0.01196170 & 0.451465 &  0.2635580 & 0.349211\\\\\n",
       "\t ENSG00000227232.5 & chr1\\_14671\\_G\\_C\\_b38 & -14882 &  2 &  2 & 0.00478469 & 0.532213 &  0.3441160 & 0.549778\\\\\n",
       "\t ENSG00000227232.5 & chr1\\_14677\\_G\\_A\\_b38 & -14876 & 23 & 23 & 0.05502390 & 0.248052 & -0.2099730 & 0.181152\\\\\n",
       "\t ENSG00000227232.5 & chr1\\_16841\\_G\\_T\\_b38 & -12712 & 19 & 19 & 0.04545450 & 0.885775 &  0.0272581 & 0.189464\\\\\n",
       "\t ENSG00000227232.5 & chr1\\_16856\\_A\\_G\\_b38 & -12697 &  3 &  3 & 0.00717703 & 0.842802 & -0.0890186 & 0.448194\\\\\n",
       "\t ENSG00000227232.5 & chr1\\_17005\\_A\\_G\\_b38 & -12548 &  6 &  6 & 0.01435410 & 0.123219 & -0.5002110 & 0.322897\\\\\n",
       "\\end{tabular}\n"
      ],
      "text/markdown": [
       "\n",
       "A data.table: 6 × 9\n",
       "\n",
       "| gene_id &lt;chr&gt; | variant_id &lt;chr&gt; | tss_distance &lt;int&gt; | ma_samples &lt;int&gt; | ma_count &lt;int&gt; | maf &lt;dbl&gt; | pval_nominal &lt;dbl&gt; | slope &lt;dbl&gt; | slope_se &lt;dbl&gt; |\n",
       "|---|---|---|---|---|---|---|---|---|\n",
       "| ENSG00000227232.5 | chr1_13550_G_A_b38 | -16003 |  5 |  5 | 0.01196170 | 0.451465 |  0.2635580 | 0.349211 |\n",
       "| ENSG00000227232.5 | chr1_14671_G_C_b38 | -14882 |  2 |  2 | 0.00478469 | 0.532213 |  0.3441160 | 0.549778 |\n",
       "| ENSG00000227232.5 | chr1_14677_G_A_b38 | -14876 | 23 | 23 | 0.05502390 | 0.248052 | -0.2099730 | 0.181152 |\n",
       "| ENSG00000227232.5 | chr1_16841_G_T_b38 | -12712 | 19 | 19 | 0.04545450 | 0.885775 |  0.0272581 | 0.189464 |\n",
       "| ENSG00000227232.5 | chr1_16856_A_G_b38 | -12697 |  3 |  3 | 0.00717703 | 0.842802 | -0.0890186 | 0.448194 |\n",
       "| ENSG00000227232.5 | chr1_17005_A_G_b38 | -12548 |  6 |  6 | 0.01435410 | 0.123219 | -0.5002110 | 0.322897 |\n",
       "\n"
      ],
      "text/plain": [
       "  gene_id           variant_id         tss_distance ma_samples ma_count\n",
       "1 ENSG00000227232.5 chr1_13550_G_A_b38 -16003        5          5      \n",
       "2 ENSG00000227232.5 chr1_14671_G_C_b38 -14882        2          2      \n",
       "3 ENSG00000227232.5 chr1_14677_G_A_b38 -14876       23         23      \n",
       "4 ENSG00000227232.5 chr1_16841_G_T_b38 -12712       19         19      \n",
       "5 ENSG00000227232.5 chr1_16856_A_G_b38 -12697        3          3      \n",
       "6 ENSG00000227232.5 chr1_17005_A_G_b38 -12548        6          6      \n",
       "  maf        pval_nominal slope      slope_se\n",
       "1 0.01196170 0.451465      0.2635580 0.349211\n",
       "2 0.00478469 0.532213      0.3441160 0.549778\n",
       "3 0.05502390 0.248052     -0.2099730 0.181152\n",
       "4 0.04545450 0.885775      0.0272581 0.189464\n",
       "5 0.00717703 0.842802     -0.0890186 0.448194\n",
       "6 0.01435410 0.123219     -0.5002110 0.322897"
      ]
     },
     "metadata": {},
     "output_type": "display_data"
    }
   ],
   "source": [
    "gtex.store <- \"/scratch/midway3/lifanl/\"\n",
    "gtexfs <- list.files(gtex.store,pattern=\"Brain\")\n",
    "cere <- fread(paste0(gtex.store,\"Brain_Cerebellum.allpairs.txt.gz\"))\n",
    "head(cere)"
   ]
  },
  {
   "cell_type": "code",
   "execution_count": 76,
   "id": "e542c3c7-492c-4556-ae43-2938f1ba15b5",
   "metadata": {},
   "outputs": [
    {
     "data": {
      "text/html": [
       "<table class=\"dataframe\">\n",
       "<caption>A data.table: 6 × 11</caption>\n",
       "<thead>\n",
       "\t<tr><th scope=col>variant_id</th><th scope=col>gene_id</th><th scope=col>tss_distance</th><th scope=col>ma_samples</th><th scope=col>ma_count</th><th scope=col>maf</th><th scope=col>pval_nominal</th><th scope=col>slope</th><th scope=col>slope_se</th><th scope=col>gene_name</th><th scope=col>rsid</th></tr>\n",
       "\t<tr><th scope=col>&lt;chr&gt;</th><th scope=col>&lt;chr&gt;</th><th scope=col>&lt;int&gt;</th><th scope=col>&lt;int&gt;</th><th scope=col>&lt;int&gt;</th><th scope=col>&lt;dbl&gt;</th><th scope=col>&lt;dbl&gt;</th><th scope=col>&lt;dbl&gt;</th><th scope=col>&lt;dbl&gt;</th><th scope=col>&lt;chr&gt;</th><th scope=col>&lt;chr&gt;</th></tr>\n",
       "</thead>\n",
       "<tbody>\n",
       "\t<tr><td>chr10_100000235_C_T_b38</td><td>ENSG00000014919.12</td><td> 268135</td><td>102</td><td>120</td><td>0.287081</td><td>0.6124920</td><td>-0.0341321</td><td>0.0672604</td><td>COX15 </td><td>rs11596870</td></tr>\n",
       "\t<tr><td>chr10_100000235_C_T_b38</td><td>ENSG00000023839.10</td><td> 217503</td><td>102</td><td>120</td><td>0.287081</td><td>0.0879439</td><td>-0.1264550</td><td>0.0736800</td><td>ABCC2 </td><td>rs11596870</td></tr>\n",
       "\t<tr><td>chr10_100000235_C_T_b38</td><td>ENSG00000055950.16</td><td>-987131</td><td>102</td><td>120</td><td>0.287081</td><td>0.6893440</td><td>-0.0207521</td><td>0.0518243</td><td>MRPL43</td><td>rs11596870</td></tr>\n",
       "\t<tr><td>chr10_100000235_C_T_b38</td><td>ENSG00000075290.7 </td><td>-462806</td><td>102</td><td>120</td><td>0.287081</td><td>0.8605700</td><td>-0.0183043</td><td>0.1040510</td><td>WNT8B </td><td>rs11596870</td></tr>\n",
       "\t<tr><td>chr10_100000235_C_T_b38</td><td>ENSG00000075826.16</td><td>-519629</td><td>102</td><td>120</td><td>0.287081</td><td>0.4979820</td><td> 0.0416309</td><td>0.0613000</td><td>SEC31B</td><td>rs11596870</td></tr>\n",
       "\t<tr><td>chr10_100000235_C_T_b38</td><td>ENSG00000075891.21</td><td>-735368</td><td>102</td><td>120</td><td>0.287081</td><td>0.3637060</td><td> 0.0519238</td><td>0.0570100</td><td>PAX2  </td><td>rs11596870</td></tr>\n",
       "</tbody>\n",
       "</table>\n"
      ],
      "text/latex": [
       "A data.table: 6 × 11\n",
       "\\begin{tabular}{lllllllllll}\n",
       " variant\\_id & gene\\_id & tss\\_distance & ma\\_samples & ma\\_count & maf & pval\\_nominal & slope & slope\\_se & gene\\_name & rsid\\\\\n",
       " <chr> & <chr> & <int> & <int> & <int> & <dbl> & <dbl> & <dbl> & <dbl> & <chr> & <chr>\\\\\n",
       "\\hline\n",
       "\t chr10\\_100000235\\_C\\_T\\_b38 & ENSG00000014919.12 &  268135 & 102 & 120 & 0.287081 & 0.6124920 & -0.0341321 & 0.0672604 & COX15  & rs11596870\\\\\n",
       "\t chr10\\_100000235\\_C\\_T\\_b38 & ENSG00000023839.10 &  217503 & 102 & 120 & 0.287081 & 0.0879439 & -0.1264550 & 0.0736800 & ABCC2  & rs11596870\\\\\n",
       "\t chr10\\_100000235\\_C\\_T\\_b38 & ENSG00000055950.16 & -987131 & 102 & 120 & 0.287081 & 0.6893440 & -0.0207521 & 0.0518243 & MRPL43 & rs11596870\\\\\n",
       "\t chr10\\_100000235\\_C\\_T\\_b38 & ENSG00000075290.7  & -462806 & 102 & 120 & 0.287081 & 0.8605700 & -0.0183043 & 0.1040510 & WNT8B  & rs11596870\\\\\n",
       "\t chr10\\_100000235\\_C\\_T\\_b38 & ENSG00000075826.16 & -519629 & 102 & 120 & 0.287081 & 0.4979820 &  0.0416309 & 0.0613000 & SEC31B & rs11596870\\\\\n",
       "\t chr10\\_100000235\\_C\\_T\\_b38 & ENSG00000075891.21 & -735368 & 102 & 120 & 0.287081 & 0.3637060 &  0.0519238 & 0.0570100 & PAX2   & rs11596870\\\\\n",
       "\\end{tabular}\n"
      ],
      "text/markdown": [
       "\n",
       "A data.table: 6 × 11\n",
       "\n",
       "| variant_id &lt;chr&gt; | gene_id &lt;chr&gt; | tss_distance &lt;int&gt; | ma_samples &lt;int&gt; | ma_count &lt;int&gt; | maf &lt;dbl&gt; | pval_nominal &lt;dbl&gt; | slope &lt;dbl&gt; | slope_se &lt;dbl&gt; | gene_name &lt;chr&gt; | rsid &lt;chr&gt; |\n",
       "|---|---|---|---|---|---|---|---|---|---|---|\n",
       "| chr10_100000235_C_T_b38 | ENSG00000014919.12 |  268135 | 102 | 120 | 0.287081 | 0.6124920 | -0.0341321 | 0.0672604 | COX15  | rs11596870 |\n",
       "| chr10_100000235_C_T_b38 | ENSG00000023839.10 |  217503 | 102 | 120 | 0.287081 | 0.0879439 | -0.1264550 | 0.0736800 | ABCC2  | rs11596870 |\n",
       "| chr10_100000235_C_T_b38 | ENSG00000055950.16 | -987131 | 102 | 120 | 0.287081 | 0.6893440 | -0.0207521 | 0.0518243 | MRPL43 | rs11596870 |\n",
       "| chr10_100000235_C_T_b38 | ENSG00000075290.7  | -462806 | 102 | 120 | 0.287081 | 0.8605700 | -0.0183043 | 0.1040510 | WNT8B  | rs11596870 |\n",
       "| chr10_100000235_C_T_b38 | ENSG00000075826.16 | -519629 | 102 | 120 | 0.287081 | 0.4979820 |  0.0416309 | 0.0613000 | SEC31B | rs11596870 |\n",
       "| chr10_100000235_C_T_b38 | ENSG00000075891.21 | -735368 | 102 | 120 | 0.287081 | 0.3637060 |  0.0519238 | 0.0570100 | PAX2   | rs11596870 |\n",
       "\n"
      ],
      "text/plain": [
       "  variant_id              gene_id            tss_distance ma_samples ma_count\n",
       "1 chr10_100000235_C_T_b38 ENSG00000014919.12  268135      102        120     \n",
       "2 chr10_100000235_C_T_b38 ENSG00000023839.10  217503      102        120     \n",
       "3 chr10_100000235_C_T_b38 ENSG00000055950.16 -987131      102        120     \n",
       "4 chr10_100000235_C_T_b38 ENSG00000075290.7  -462806      102        120     \n",
       "5 chr10_100000235_C_T_b38 ENSG00000075826.16 -519629      102        120     \n",
       "6 chr10_100000235_C_T_b38 ENSG00000075891.21 -735368      102        120     \n",
       "  maf      pval_nominal slope      slope_se  gene_name rsid      \n",
       "1 0.287081 0.6124920    -0.0341321 0.0672604 COX15     rs11596870\n",
       "2 0.287081 0.0879439    -0.1264550 0.0736800 ABCC2     rs11596870\n",
       "3 0.287081 0.6893440    -0.0207521 0.0518243 MRPL43    rs11596870\n",
       "4 0.287081 0.8605700    -0.0183043 0.1040510 WNT8B     rs11596870\n",
       "5 0.287081 0.4979820     0.0416309 0.0613000 SEC31B    rs11596870\n",
       "6 0.287081 0.3637060     0.0519238 0.0570100 PAX2      rs11596870"
      ]
     },
     "metadata": {},
     "output_type": "display_data"
    }
   ],
   "source": [
    "### Map to RSID and gene name\n",
    "\n",
    "#cerebellum <- fread(\"../../GTEx_Analysis_v8_eQTL/Brain_Cerebellum.v8.signif_variant_gene_pairs.txt.gz\")\n",
    "geneinfo <- fread(\"../../GTEx_Analysis_v8_eQTL/Brain_Cerebellum.v8.egenes.txt.gz\")\n",
    "cere1 <- merge(cere, geneinfo[,1:2], by=\"gene_id\", all.x=T)\n",
    "\n",
    "cere2 <- merge(cere1, snpinfo[,c(\"rsid\",\"variant_id\")], by=\"variant_id\", all=F)\n",
    "\n",
    "head(cere2)"
   ]
  },
  {
   "cell_type": "code",
   "execution_count": 81,
   "id": "6ae5bdf5-db91-4ef3-bf11-e50ad969fb71",
   "metadata": {},
   "outputs": [
    {
     "data": {
      "text/html": [
       "<style>\n",
       ".list-inline {list-style: none; margin:0; padding: 0}\n",
       ".list-inline>li {display: inline-block}\n",
       ".list-inline>li:not(:last-child)::after {content: \"\\00b7\"; padding: 0 .5ex}\n",
       "</style>\n",
       "<ol class=list-inline><li>'Amygdala'</li><li>'Anterior_cingulate_cortex_BA24'</li><li>'Caudate_basal_ganglia'</li><li>'Cerebellar_Hemisphere'</li><li>'Cerebellum'</li><li>'Cortex'</li><li>'Frontal_Cortex_BA9'</li><li>'Hippocampus'</li><li>'Hypothalamus'</li><li>'Nucleus_accumbens_basal_ganglia'</li><li>'Putamen_basal_ganglia'</li><li>'Spinal_cord_cervical_c-1'</li><li>'Substantia_nigra'</li></ol>\n"
      ],
      "text/latex": [
       "\\begin{enumerate*}\n",
       "\\item 'Amygdala'\n",
       "\\item 'Anterior\\_cingulate\\_cortex\\_BA24'\n",
       "\\item 'Caudate\\_basal\\_ganglia'\n",
       "\\item 'Cerebellar\\_Hemisphere'\n",
       "\\item 'Cerebellum'\n",
       "\\item 'Cortex'\n",
       "\\item 'Frontal\\_Cortex\\_BA9'\n",
       "\\item 'Hippocampus'\n",
       "\\item 'Hypothalamus'\n",
       "\\item 'Nucleus\\_accumbens\\_basal\\_ganglia'\n",
       "\\item 'Putamen\\_basal\\_ganglia'\n",
       "\\item 'Spinal\\_cord\\_cervical\\_c-1'\n",
       "\\item 'Substantia\\_nigra'\n",
       "\\end{enumerate*}\n"
      ],
      "text/markdown": [
       "1. 'Amygdala'\n",
       "2. 'Anterior_cingulate_cortex_BA24'\n",
       "3. 'Caudate_basal_ganglia'\n",
       "4. 'Cerebellar_Hemisphere'\n",
       "5. 'Cerebellum'\n",
       "6. 'Cortex'\n",
       "7. 'Frontal_Cortex_BA9'\n",
       "8. 'Hippocampus'\n",
       "9. 'Hypothalamus'\n",
       "10. 'Nucleus_accumbens_basal_ganglia'\n",
       "11. 'Putamen_basal_ganglia'\n",
       "12. 'Spinal_cord_cervical_c-1'\n",
       "13. 'Substantia_nigra'\n",
       "\n",
       "\n"
      ],
      "text/plain": [
       " [1] \"Amygdala\"                        \"Anterior_cingulate_cortex_BA24\" \n",
       " [3] \"Caudate_basal_ganglia\"           \"Cerebellar_Hemisphere\"          \n",
       " [5] \"Cerebellum\"                      \"Cortex\"                         \n",
       " [7] \"Frontal_Cortex_BA9\"              \"Hippocampus\"                    \n",
       " [9] \"Hypothalamus\"                    \"Nucleus_accumbens_basal_ganglia\"\n",
       "[11] \"Putamen_basal_ganglia\"           \"Spinal_cord_cervical_c-1\"       \n",
       "[13] \"Substantia_nigra\"               "
      ]
     },
     "metadata": {},
     "output_type": "display_data"
    }
   ],
   "source": [
    "substr(gtexfs,7,nchar(gtexfs)-16)"
   ]
  },
  {
   "cell_type": "code",
   "execution_count": null,
   "id": "409d8917-6954-444c-9828-ab7989816357",
   "metadata": {},
   "outputs": [
    {
     "name": "stderr",
     "output_type": "stream",
     "text": [
      "Warning message in cor(beta, slope):\n",
      "“the standard deviation is zero”\n",
      "Warning message in cor(beta, slope):\n",
      "“the standard deviation is zero”\n",
      "Warning message in cor(beta, slope):\n",
      "“the standard deviation is zero”\n",
      "Warning message in cor(beta, slope):\n",
      "“the standard deviation is zero”\n",
      "Warning message in cor(beta, slope):\n",
      "“the standard deviation is zero”\n",
      "Warning message in cor(beta, slope):\n",
      "“the standard deviation is zero”\n",
      "Warning message in cor(beta, slope):\n",
      "“the standard deviation is zero”\n",
      "Warning message in cor(beta, slope):\n",
      "“the standard deviation is zero”\n",
      "Warning message in cor(beta, slope):\n",
      "“the standard deviation is zero”\n",
      "Warning message in cor(beta, slope):\n",
      "“the standard deviation is zero”\n"
     ]
    }
   ],
   "source": [
    "res <- matrix(nrow=length(eqtls),ncol=length(gtexfs))\n",
    "rownames(res) <- names(eqtls)\n",
    "colnames(res) <- substr(gtexfs,7,nchar(gtexfs)-16)\n",
    "res.se <- res\n",
    "for(f in gtexfs) {\n",
    "    n <- substr(f,7,nchar(f)-16)\n",
    "    temp <- fread(paste0(gtex.store,f))\n",
    "    geneinfo <- fread(paste0(\"../../GTEx_Analysis_v8_eQTL/Brain_\",n,\".v8.egenes.txt.gz\"))\n",
    "    temp1 <- merge(temp, geneinfo[,1:2], by=\"gene_id\", all.x=T)\n",
    "    temp2 <- merge(temp1, snpinfo[,c(\"rsid\",\"variant_id\")], by=\"variant_id\", all=F)\n",
    "    for(e in names(eqtls)) {\n",
    "        res[e, n] <- rb_est(eqtls[[e]], temp2, ref_pairs)\n",
    "        res.se[e, n] <- rb_se(eqtls[[e]], temp2, ref_pairs)\n",
    "    }\n",
    "}\n",
    "res"
   ]
  },
  {
   "cell_type": "code",
   "execution_count": 78,
   "id": "a6ced9b2-22ec-466a-bad2-1cf757576170",
   "metadata": {},
   "outputs": [
    {
     "data": {
      "text/html": [
       "<style>\n",
       ".list-inline {list-style: none; margin:0; padding: 0}\n",
       ".list-inline>li {display: inline-block}\n",
       ".list-inline>li:not(:last-child)::after {content: \"\\00b7\"; padding: 0 .5ex}\n",
       "</style>\n",
       "<ol class=list-inline><li>0.64996556574947</li><li>0.0156129078279016</li></ol>\n"
      ],
      "text/latex": [
       "\\begin{enumerate*}\n",
       "\\item 0.64996556574947\n",
       "\\item 0.0156129078279016\n",
       "\\end{enumerate*}\n"
      ],
      "text/markdown": [
       "1. 0.64996556574947\n",
       "2. 0.0156129078279016\n",
       "\n",
       "\n"
      ],
      "text/plain": [
       "[1] 0.64996557 0.01561291"
      ]
     },
     "metadata": {},
     "output_type": "display_data"
    }
   ],
   "source": [
    "c(rb_est(eqtls[[1]], cere2, ref_pairs),rb_se(eqtls[[1]], cere2, ref_pairs))"
   ]
  },
  {
   "cell_type": "code",
   "execution_count": 1,
   "id": "c09349a2-e580-4d91-879c-2bf0c578609a",
   "metadata": {},
   "outputs": [
    {
     "ename": "ERROR",
     "evalue": "Error in eval(expr, envir, enclos): object 'res' not found\n",
     "output_type": "error",
     "traceback": [
      "Error in eval(expr, envir, enclos): object 'res' not found\nTraceback:\n"
     ]
    }
   ],
   "source": [
    "res"
   ]
  }
 ],
 "metadata": {
  "kernelspec": {
   "display_name": "R",
   "language": "R",
   "name": "ir"
  },
  "language_info": {
   "codemirror_mode": "r",
   "file_extension": ".r",
   "mimetype": "text/x-r-source",
   "name": "R",
   "pygments_lexer": "r",
   "version": "4.2.0"
  }
 },
 "nbformat": 4,
 "nbformat_minor": 5
}
